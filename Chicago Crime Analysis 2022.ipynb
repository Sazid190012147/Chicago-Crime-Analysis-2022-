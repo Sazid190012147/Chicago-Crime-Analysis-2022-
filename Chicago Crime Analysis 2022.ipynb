{
 "cells": [
  {
   "cell_type": "markdown",
   "id": "167bd272",
   "metadata": {},
   "source": [
    "# <center>Chicago Crime Analysis 2022</center>"
   ]
  },
  {
   "cell_type": "markdown",
   "id": "3082a8fd",
   "metadata": {},
   "source": [
    "<img src=\"https://i.imgur.com/wEZQMIb.jpeg\" alt=\"Crime-image\" style=\"width:100%;\">"
   ]
  },
  {
   "cell_type": "markdown",
   "id": "fe3292c8",
   "metadata": {},
   "source": [
    "## Dataset Overview\n",
    "    ID – Unique identifier for each crime record.\n",
    "    Case Number – The police case number associated with the crime.\n",
    "    Date – The date and time when the crime occurred.\n",
    "    Block – The location block where the crime took place.\n",
    "    IUCR – Illinois Uniform Crime Reporting (IUCR) code for the crime.\n",
    "    Primary Type – The category of crime (e.g., THEFT, BATTERY, ASSAULT).\n",
    "    Description – A more specific description of the crime type.\n",
    "    Location Description – Where the crime occurred (e.g., STREET, APARTMENT).\n",
    "    Arrest – Indicates whether an arrest was made (True/False).\n",
    "    Domestic – Whether the crime was domestic-related (True/False).\n",
    "    Beat – A specific police patrol area.\n",
    "    District – The larger police district in which the crime occurred.\n",
    "    Ward – The political ward where the crime was reported.\n",
    "    Community Area – The community designation for the crime location.\n",
    "    FBI Code – FBI classification code for the type of offense.\n",
    "    X Coordinate, Y Coordinate – Geospatial coordinates in the city system.\n",
    "    Latitude, Longitude – GPS coordinates for crime mapping.\n",
    "    Updated On – The date when the crime record was last updated."
   ]
  },
  {
   "cell_type": "markdown",
   "id": "40c80d2c",
   "metadata": {},
   "source": [
    "## Importing The Requried Libraries"
   ]
  },
  {
   "cell_type": "code",
   "execution_count": null,
   "id": "ef2fe347",
   "metadata": {},
   "outputs": [],
   "source": [
    "#import the required libraries\n",
    "import numpy as np \n",
    "import pandas as pd \n",
    "import seaborn as sns \n",
    "import matplotlib.ticker as mtick  \n",
    "import matplotlib.pyplot as plt\n",
    "from tabulate import tabulate\n",
    "import plotly.express as px\n",
    "import calendar\n",
    "import folium\n",
    "from folium.plugins import HeatMap\n",
    "import warnings\n",
    "warnings.filterwarnings('ignore')\n",
    "%matplotlib inline"
   ]
  },
  {
   "cell_type": "markdown",
   "id": "3a7c50c4",
   "metadata": {},
   "source": [
    "## Data Loading & Overview"
   ]
  },
  {
   "cell_type": "code",
   "execution_count": null,
   "id": "af2ca7cf",
   "metadata": {},
   "outputs": [],
   "source": [
    "# Loading the original dataset\n",
    "main_df = pd.read_csv('crime prediction in chicago.csv')"
   ]
  },
  {
   "cell_type": "code",
   "execution_count": null,
   "id": "b72c9c1d",
   "metadata": {},
   "outputs": [],
   "source": [
    "# Making a copy of our original dataset\n",
    "copy_df = main_df.copy()"
   ]
  },
  {
   "cell_type": "code",
   "execution_count": null,
   "id": "3633c584",
   "metadata": {},
   "outputs": [],
   "source": [
    "# Dataset Overview\n",
    "copy_df.head().T"
   ]
  },
  {
   "cell_type": "code",
   "execution_count": null,
   "id": "042da5fb",
   "metadata": {},
   "outputs": [],
   "source": [
    "# Shape of our dataset\n",
    "copy_df.shape"
   ]
  },
  {
   "cell_type": "markdown",
   "id": "3197c57c",
   "metadata": {},
   "source": [
    "Their are 239558 rows and 22 columns in our dataset"
   ]
  },
  {
   "cell_type": "code",
   "execution_count": null,
   "id": "13482c94",
   "metadata": {},
   "outputs": [],
   "source": [
    "# Dataset Info\n",
    "copy_df.info()"
   ]
  },
  {
   "cell_type": "code",
   "execution_count": null,
   "id": "957e44fc",
   "metadata": {},
   "outputs": [],
   "source": [
    "# Statistical Overview\n",
    "copy_df.describe()"
   ]
  },
  {
   "cell_type": "markdown",
   "id": "d68c2843",
   "metadata": {},
   "source": [
    "## <center>Data Cleaning & Preprocessing</center>"
   ]
  },
  {
   "cell_type": "markdown",
   "id": "abb88148",
   "metadata": {},
   "source": [
    "## Null Values Handling"
   ]
  },
  {
   "cell_type": "code",
   "execution_count": null,
   "id": "1c1a6f12",
   "metadata": {},
   "outputs": [],
   "source": [
    "# Checking null values\n",
    "copy_df.isnull().sum()"
   ]
  },
  {
   "cell_type": "code",
   "execution_count": null,
   "id": "5946991b",
   "metadata": {},
   "outputs": [],
   "source": [
    "# Visual Representations of Checking Null Values\n",
    "missing = pd.DataFrame((copy_df.isnull().sum())*100/copy_df.shape[0]).reset_index()\n",
    "plt.figure(figsize=(16,5))\n",
    "ax = sns.pointplot(data = missing, x=\"index\", y=0)\n",
    "plt.xticks(rotation =90,fontsize =7)\n",
    "plt.title(\"Percentage of Missing values\")\n",
    "plt.ylabel(\"PERCENTAGE\")\n",
    "plt.show()"
   ]
  },
  {
   "cell_type": "markdown",
   "id": "93612389",
   "metadata": {},
   "source": [
    "There are almost 0.5% data is missing in Location Description and almost 2% data is missing in X Coordinate, Y Coordinate, Latitude, Longitude, and Location. We also see that there are 10 missing values in Ward which is very very less amount is percentage value near 0%."
   ]
  },
  {
   "cell_type": "markdown",
   "id": "260fa8d8",
   "metadata": {},
   "source": [
    "### Handling Location Description Data"
   ]
  },
  {
   "cell_type": "code",
   "execution_count": null,
   "id": "37ba9dbf",
   "metadata": {},
   "outputs": [],
   "source": [
    "# Filtered out the null values\n",
    "null_location_description = copy_df[copy_df['Location Description'].isnull()]"
   ]
  },
  {
   "cell_type": "code",
   "execution_count": null,
   "id": "0f9dcf48",
   "metadata": {},
   "outputs": [],
   "source": [
    "null_location_description.head().T"
   ]
  },
  {
   "cell_type": "code",
   "execution_count": null,
   "id": "2e8e3f28",
   "metadata": {},
   "outputs": [],
   "source": [
    "# Unique Crime Description which has missing location description\n",
    "null_location_description['Description'].unique()"
   ]
  },
  {
   "cell_type": "code",
   "execution_count": null,
   "id": "d835ff0c",
   "metadata": {},
   "outputs": [],
   "source": [
    "# Unique primary type crimes which has missing location description\n",
    "null_location_description['Primary Type'].unique()"
   ]
  },
  {
   "cell_type": "code",
   "execution_count": null,
   "id": "f0c369bd",
   "metadata": {},
   "outputs": [],
   "source": [
    "crime_types = [\n",
    "    'DECEPTIVE PRACTICE', 'BATTERY', 'CRIMINAL SEXUAL ASSAULT', \n",
    "    'BURGLARY', 'THEFT', 'OTHER OFFENSE', 'ROBBERY'\n",
    "]\n",
    "\n",
    "# Filtering the dataset\n",
    "filtered_df = copy_df.query(\"`Primary Type` in @crime_types\")\n",
    "\n",
    "# Display the filtered dataset\n",
    "filtered_df.head().T"
   ]
  },
  {
   "cell_type": "code",
   "execution_count": null,
   "id": "da957239",
   "metadata": {},
   "outputs": [],
   "source": [
    "# Value Counts\n",
    "filtered_df['Location Description'].value_counts().head(10)"
   ]
  },
  {
   "cell_type": "code",
   "execution_count": null,
   "id": "3a3c4227",
   "metadata": {},
   "outputs": [],
   "source": [
    "# Mode of location description\n",
    "Location_Description_Mode = filtered_df['Location Description'].mode()[0]\n",
    "Location_Description_Mode"
   ]
  },
  {
   "cell_type": "code",
   "execution_count": null,
   "id": "bc03dca6",
   "metadata": {},
   "outputs": [],
   "source": [
    "# Filling the null values with the mode\n",
    "copy_df['Location Description'] = copy_df['Location Description'].fillna(Location_Description_Mode)"
   ]
  },
  {
   "cell_type": "code",
   "execution_count": null,
   "id": "213ade57",
   "metadata": {},
   "outputs": [],
   "source": [
    "# Checking Null values in Location Description\n",
    "copy_df['Location Description'].isnull().sum()"
   ]
  },
  {
   "cell_type": "markdown",
   "id": "10b8504b",
   "metadata": {},
   "source": [
    "I first filtered the dataset where the \"Location Description\" column has missing values. Then, I identified the unique crime types from this filtered data. Next, I retrieved the corresponding \"Location Description\" values for these crime types from the main dataset. Finally, I determined the most frequently occurring (mode) \"Location Description\" and used it to fill the missing values."
   ]
  },
  {
   "cell_type": "markdown",
   "id": "2d68c040",
   "metadata": {},
   "source": [
    "### Handling Ward"
   ]
  },
  {
   "cell_type": "code",
   "execution_count": null,
   "id": "30c1d775",
   "metadata": {},
   "outputs": [],
   "source": [
    "# Percentage of missing values in the 'Ward' column\n",
    "copy_df['Ward'].isnull().sum()*100/copy_df['Ward'].value_counts().sum()"
   ]
  },
  {
   "cell_type": "markdown",
   "id": "46ad732f",
   "metadata": {},
   "source": [
    "we can see that there are 0.004% data are missing in Ward Column. So we can easily drop the missing values."
   ]
  },
  {
   "cell_type": "code",
   "execution_count": null,
   "id": "acee1a34",
   "metadata": {},
   "outputs": [],
   "source": [
    "copy_df.dropna(subset=['Ward'], inplace=True)"
   ]
  },
  {
   "cell_type": "code",
   "execution_count": null,
   "id": "932e0cf4",
   "metadata": {},
   "outputs": [],
   "source": [
    "# Checking Null values in Ward\n",
    "copy_df['Ward'].isnull().sum()"
   ]
  },
  {
   "cell_type": "markdown",
   "id": "7d57b711",
   "metadata": {},
   "source": [
    "### Handling Other Columns which contain Null Values"
   ]
  },
  {
   "cell_type": "markdown",
   "id": "bccd1d1d",
   "metadata": {},
   "source": [
    "X Coordinate, Y coordinate and Location columns are unnecessary columns so we can easily drop these columns. "
   ]
  },
  {
   "cell_type": "code",
   "execution_count": null,
   "id": "fd578b3a",
   "metadata": {},
   "outputs": [],
   "source": [
    "copy_df.drop(['X Coordinate', 'Y Coordinate', 'Location'], axis=1, inplace=True)"
   ]
  },
  {
   "cell_type": "code",
   "execution_count": null,
   "id": "501ffac9",
   "metadata": {},
   "outputs": [],
   "source": [
    "# Checking Null Values\n",
    "copy_df.isnull().sum()"
   ]
  },
  {
   "cell_type": "markdown",
   "id": "8bb027a7",
   "metadata": {},
   "source": [
    "There are only 2% data missing in Latitude and Longitude and the percentage is very low. It is not possible to replace the null values with some value. So we will drop these values from our dataset. "
   ]
  },
  {
   "cell_type": "code",
   "execution_count": null,
   "id": "463dd210",
   "metadata": {},
   "outputs": [],
   "source": [
    "# Drop the null values from Latitude and Longitude\n",
    "copy_df.dropna(subset=['Latitude'], inplace=True)"
   ]
  },
  {
   "cell_type": "code",
   "execution_count": null,
   "id": "91a13351",
   "metadata": {},
   "outputs": [],
   "source": [
    "# Checking Null Values for each columns\n",
    "copy_df.isnull().sum()"
   ]
  },
  {
   "cell_type": "markdown",
   "id": "bb1be817",
   "metadata": {},
   "source": [
    "There are no null values in any columns. Our Null Values Handling are done."
   ]
  },
  {
   "cell_type": "markdown",
   "id": "06f9d9d6",
   "metadata": {},
   "source": [
    "## Handling Duplicate Values"
   ]
  },
  {
   "cell_type": "markdown",
   "id": "620279cd",
   "metadata": {},
   "source": [
    "In our Dataset 'ID' is the primary key. So we will check is there any duplicate occur or not. If occur then keep the first value and remove others. "
   ]
  },
  {
   "cell_type": "code",
   "execution_count": null,
   "id": "d36a8da7",
   "metadata": {},
   "outputs": [],
   "source": [
    "copy_df.drop_duplicates(subset=['ID'], keep='first', inplace=True)"
   ]
  },
  {
   "cell_type": "markdown",
   "id": "77bd776f",
   "metadata": {},
   "source": [
    "## Dropping Unnecessary Columns I"
   ]
  },
  {
   "cell_type": "code",
   "execution_count": null,
   "id": "89a74439",
   "metadata": {},
   "outputs": [],
   "source": [
    "copy_df.info()"
   ]
  },
  {
   "cell_type": "code",
   "execution_count": null,
   "id": "85a9f884",
   "metadata": {},
   "outputs": [],
   "source": [
    "copy_df.drop(['ID', 'Case Number', 'IUCR', 'FBI Code'], axis=1, inplace=True)"
   ]
  },
  {
   "cell_type": "code",
   "execution_count": null,
   "id": "f3a47547",
   "metadata": {},
   "outputs": [],
   "source": [
    "copy_df.info()"
   ]
  },
  {
   "cell_type": "markdown",
   "id": "20481354",
   "metadata": {},
   "source": [
    "## Feature Extraction"
   ]
  },
  {
   "cell_type": "markdown",
   "id": "364b5c9c",
   "metadata": {},
   "source": [
    "### Handling Datetime"
   ]
  },
  {
   "cell_type": "code",
   "execution_count": null,
   "id": "a1715a23",
   "metadata": {},
   "outputs": [],
   "source": [
    "copy_df['Date']"
   ]
  },
  {
   "cell_type": "code",
   "execution_count": null,
   "id": "e9556fa8",
   "metadata": {},
   "outputs": [],
   "source": [
    "copy_df['Crime_Day']=copy_df['Date'].str.split('/').str[1]\n",
    "copy_df['Crime_Month']=copy_df['Date'].str.split('/').str[0]\n",
    "copy_df['Crime_hour'] = copy_df['Date'].str.split('/').str[2].str.split(' ').str[1].str.split(':').str[0]"
   ]
  },
  {
   "cell_type": "code",
   "execution_count": null,
   "id": "de449176",
   "metadata": {},
   "outputs": [],
   "source": [
    "copy_df.head().T"
   ]
  },
  {
   "cell_type": "code",
   "execution_count": null,
   "id": "ec6edf05",
   "metadata": {},
   "outputs": [],
   "source": [
    "copy_df['Updated_Day']=copy_df['Updated On'].str.split('/').str[1]\n",
    "copy_df['Updated_Month']=copy_df['Updated On'].str.split('/').str[0]\n",
    "copy_df['Updated_Year']=copy_df['Updated On'].str.split('/').str[2].str.split(' ').str[0]"
   ]
  },
  {
   "cell_type": "code",
   "execution_count": null,
   "id": "fd8e8853",
   "metadata": {},
   "outputs": [],
   "source": [
    "copy_df.head().T"
   ]
  },
  {
   "cell_type": "code",
   "execution_count": null,
   "id": "e10183c7",
   "metadata": {},
   "outputs": [],
   "source": [
    "# Drop 'Date' and 'Update On' Column\n",
    "copy_df.drop(['Date', 'Updated On'], axis=1, inplace=True)"
   ]
  },
  {
   "cell_type": "code",
   "execution_count": null,
   "id": "d944bd8a",
   "metadata": {},
   "outputs": [],
   "source": [
    "# Data Type Checking\n",
    "copy_df.info()"
   ]
  },
  {
   "cell_type": "markdown",
   "id": "a7d895f1",
   "metadata": {},
   "source": [
    "### Handling Block Column"
   ]
  },
  {
   "cell_type": "code",
   "execution_count": null,
   "id": "2f8d0510",
   "metadata": {},
   "outputs": [],
   "source": [
    "# Unique values of Block column\n",
    "copy_df.Block.unique"
   ]
  },
  {
   "cell_type": "code",
   "execution_count": null,
   "id": "fcdb130a",
   "metadata": {},
   "outputs": [],
   "source": [
    "copy_df['Block_Code'] = copy_df['Block'].str.split(' ').str[0]\n",
    "copy_df['Direction'] = copy_df['Block'].str.split(' ').str[1]\n",
    "copy_df['Street_Name'] = copy_df['Block'].str.split(' ').str[2] + \" \" + copy_df['Block'].str.split(' ').str[3]"
   ]
  },
  {
   "cell_type": "code",
   "execution_count": null,
   "id": "c5f98748",
   "metadata": {},
   "outputs": [],
   "source": [
    "copy_df.head().T"
   ]
  },
  {
   "cell_type": "code",
   "execution_count": null,
   "id": "5f0510ff",
   "metadata": {},
   "outputs": [],
   "source": [
    "copy_df.drop(['Block'], axis=1, inplace=True)"
   ]
  },
  {
   "cell_type": "code",
   "execution_count": null,
   "id": "97296a29",
   "metadata": {},
   "outputs": [],
   "source": [
    "# Info\n",
    "copy_df.info()"
   ]
  },
  {
   "cell_type": "markdown",
   "id": "e825590f",
   "metadata": {},
   "source": [
    "### Data Type Handling"
   ]
  },
  {
   "cell_type": "code",
   "execution_count": null,
   "id": "43e978a8",
   "metadata": {},
   "outputs": [],
   "source": [
    "# Converting object to int\n",
    "copy_df['Crime_Month'] = pd.to_numeric(copy_df['Crime_Month'])\n",
    "copy_df['Crime_Day'] = pd.to_numeric(copy_df['Crime_Day'])\n",
    "copy_df['Crime_hour'] = pd.to_numeric(copy_df['Crime_hour'])\n",
    "copy_df['Updated_Day'] = pd.to_numeric(copy_df['Updated_Day'])\n",
    "copy_df['Updated_Month'] = pd.to_numeric(copy_df['Updated_Month'])\n",
    "copy_df['Updated_Year'] = pd.to_numeric(copy_df['Updated_Year'])\n",
    "\n",
    "# Converting Float to Int\n",
    "copy_df['Ward'] = copy_df['Ward'].astype(int)"
   ]
  },
  {
   "cell_type": "code",
   "execution_count": null,
   "id": "3afcd70d",
   "metadata": {},
   "outputs": [],
   "source": [
    "copy_df.info()"
   ]
  },
  {
   "cell_type": "markdown",
   "id": "d96f0c04",
   "metadata": {},
   "source": [
    "## Dropping Unnecessary Columns II"
   ]
  },
  {
   "cell_type": "code",
   "execution_count": null,
   "id": "d4100243",
   "metadata": {},
   "outputs": [],
   "source": [
    "copy_df.drop(['Year'], axis=1, inplace=True)"
   ]
  },
  {
   "cell_type": "markdown",
   "id": "d3f5c8f8",
   "metadata": {},
   "source": [
    "## Checking Null Values II"
   ]
  },
  {
   "cell_type": "code",
   "execution_count": null,
   "id": "a27a3580",
   "metadata": {},
   "outputs": [],
   "source": [
    "# Checking Null\n",
    "copy_df.isnull().sum()"
   ]
  },
  {
   "cell_type": "code",
   "execution_count": null,
   "id": "64875517",
   "metadata": {},
   "outputs": [],
   "source": [
    "# Filling Null Values\n",
    "copy_df['Street_Name'].fillna('No Street Name', inplace=True)"
   ]
  },
  {
   "cell_type": "code",
   "execution_count": null,
   "id": "86911c33",
   "metadata": {},
   "outputs": [],
   "source": [
    "# Checking Null\n",
    "copy_df.isnull().sum()"
   ]
  },
  {
   "cell_type": "markdown",
   "id": "a49498b9",
   "metadata": {},
   "source": [
    "## Clean Data Overview"
   ]
  },
  {
   "cell_type": "code",
   "execution_count": null,
   "id": "8f8c7a47",
   "metadata": {},
   "outputs": [],
   "source": [
    "# Dataset Information\n",
    "copy_df.info()"
   ]
  },
  {
   "cell_type": "code",
   "execution_count": null,
   "id": "2d67ad71",
   "metadata": {},
   "outputs": [],
   "source": [
    "# Clean Dataset Shape\n",
    "copy_df.shape"
   ]
  },
  {
   "cell_type": "code",
   "execution_count": null,
   "id": "e774aaf6",
   "metadata": {},
   "outputs": [],
   "source": [
    "# Statistical Overview of Clean Data\n",
    "copy_df.describe().T"
   ]
  },
  {
   "cell_type": "code",
   "execution_count": null,
   "id": "bd995267",
   "metadata": {},
   "outputs": [],
   "source": [
    "# Clean Data Overview\n",
    "copy_df.head().T"
   ]
  },
  {
   "cell_type": "markdown",
   "id": "d26bf951",
   "metadata": {},
   "source": [
    "## <center>Deep Dive into Analysis</center>"
   ]
  },
  {
   "cell_type": "markdown",
   "id": "f34538ae",
   "metadata": {},
   "source": [
    "## Univariate Analysis"
   ]
  },
  {
   "cell_type": "code",
   "execution_count": null,
   "id": "ecc88aee",
   "metadata": {},
   "outputs": [],
   "source": [
    "# Plot crime type distribution\n",
    "plt.figure(figsize=(12, 8))\n",
    "sns.countplot(y=copy_df[\"Primary Type\"], order=copy_df[\"Primary Type\"].value_counts().index, palette=\"viridis\")\n",
    "plt.title(\"Crime Type Distribution\")\n",
    "plt.xlabel(\"Count\")\n",
    "plt.ylabel(\"Crime Type\")\n",
    "plt.show()"
   ]
  },
  {
   "cell_type": "code",
   "execution_count": null,
   "id": "3ef333da",
   "metadata": {},
   "outputs": [],
   "source": [
    "# Plot Top 15 Crime Description\n",
    "plt.figure(figsize=(14, 6))\n",
    "top_locations = copy_df[\"Description\"].value_counts().index[:15]  # Select top 15 locations\n",
    "sns.countplot(y=copy_df[copy_df[\"Description\"].isin(top_locations)][\"Description\"], \n",
    "              order=top_locations, palette=\"viridis\")\n",
    "plt.title(\"Top 15 Crime Description\")\n",
    "plt.xlabel(\"Count\")\n",
    "plt.ylabel(\"Crime Description\")\n",
    "plt.show()"
   ]
  },
  {
   "cell_type": "code",
   "execution_count": null,
   "id": "2be3dc64",
   "metadata": {},
   "outputs": [],
   "source": [
    "# Plot Top 15 Crime Location\n",
    "plt.figure(figsize=(14, 6))\n",
    "top_locations = copy_df[\"Location Description\"].value_counts().index[:15]  # Select top 15 locations\n",
    "sns.countplot(y=copy_df[copy_df[\"Location Description\"].isin(top_locations)][\"Location Description\"], \n",
    "              order=top_locations, palette=\"viridis\")\n",
    "plt.title(\"Top 15 Crime Locations\")\n",
    "plt.xlabel(\"Count\")\n",
    "plt.ylabel(\"Location Description\")\n",
    "plt.show()"
   ]
  },
  {
   "cell_type": "code",
   "execution_count": null,
   "id": "520f83d2",
   "metadata": {},
   "outputs": [],
   "source": [
    "# Arrest\n",
    "plt.figure(figsize=(6, 6))\n",
    "copy_df[\"Arrest\"].value_counts().plot.pie(autopct=\"%1.1f%%\", colors=[\"lightblue\", \"salmon\"], startangle=90, explode=[0, 0.1])\n",
    "plt.title(\"Proportion of Crimes with Arrests\")\n",
    "plt.ylabel(\"\")  \n",
    "plt.show()"
   ]
  },
  {
   "cell_type": "code",
   "execution_count": null,
   "id": "9e09623a",
   "metadata": {},
   "outputs": [],
   "source": [
    "# Domestic Crime\n",
    "plt.figure(figsize=(6, 6))\n",
    "copy_df[\"Domestic\"].value_counts().plot.pie(autopct=\"%1.1f%%\", colors=[\"#FF6F61\", \"#EAC435\"] , startangle=90, explode=[0, 0.1])\n",
    "plt.title(\"Proportion of Domestic Crimes\")\n",
    "plt.ylabel(\"\") \n",
    "plt.show()"
   ]
  },
  {
   "cell_type": "code",
   "execution_count": null,
   "id": "cde44f68",
   "metadata": {},
   "outputs": [],
   "source": [
    "# Top 15 Crime-Prone Beats\n",
    "plt.figure(figsize=(14, 6))\n",
    "top_beats = copy_df[\"Beat\"].value_counts().head(15)  # Top 15 beats with the most crimes\n",
    "sns.barplot(x=top_beats.index, y=top_beats.values, palette=\"viridis\", order=top_beats.index)\n",
    "plt.title(\"Top 15 Crime-Prone Beats\")\n",
    "plt.xlabel(\"Beat\")\n",
    "plt.ylabel(\"Crime Count\")\n",
    "plt.xticks(rotation=45)\n",
    "plt.show()"
   ]
  },
  {
   "cell_type": "code",
   "execution_count": null,
   "id": "e88868ab",
   "metadata": {},
   "outputs": [],
   "source": [
    "# District, Ward, Community Area\n",
    "copy_df[\"location_group\"] = copy_df[[\"District\", \"Ward\", \"Community Area\"]].astype(str).agg('-'.join, axis=1)\n",
    "\n",
    "# Count occurrences of each unique combination\n",
    "location_counts = copy_df[\"location_group\"].value_counts().head(15)  # Top 15\n",
    "\n",
    "# Plot the data\n",
    "plt.figure(figsize=(14, 6))\n",
    "sns.barplot(x=location_counts.index, y=location_counts.values, palette=\"coolwarm\")\n",
    "plt.xticks(rotation=45)\n",
    "plt.xlabel(\"District-Ward-Community Area\")\n",
    "plt.ylabel(\"Number of Crimes\")\n",
    "plt.title(\"Top 15 Crime-Prone Location Combinations\")\n",
    "plt.show()"
   ]
  },
  {
   "cell_type": "code",
   "execution_count": null,
   "id": "9dc05553",
   "metadata": {},
   "outputs": [],
   "source": [
    "# Block, Direction, Street\n",
    "copy_df[\"location_block_group\"] = copy_df[[\"Block_Code\", \"Direction\", \"Street_Name\"]].astype(str).agg('-'.join, axis=1)\n",
    "\n",
    "# Count occurrences of each unique combination\n",
    "location_counts = copy_df[\"location_block_group\"].value_counts().head(15)  # Top 15\n",
    "\n",
    "# Plot the data\n",
    "plt.figure(figsize=(14, 6))\n",
    "sns.barplot(x=location_counts.index, y=location_counts.values, palette=\"coolwarm\")\n",
    "plt.xticks(rotation=45)\n",
    "plt.xlabel(\"District-Ward-Community Area\")\n",
    "plt.ylabel(\"Number of Crimes\")\n",
    "plt.title(\"Top 15 Crime-Prone Location Combinations\")\n",
    "plt.show()"
   ]
  },
  {
   "cell_type": "code",
   "execution_count": null,
   "id": "6230cb5b",
   "metadata": {},
   "outputs": [],
   "source": [
    "# Get the top 15 crime-prone location combinations\n",
    "top_locations = copy_df[\"location_group\"].value_counts().head(15).index\n",
    "\n",
    "# Filter dataset for only these top locations\n",
    "filtered_df = copy_df[copy_df[\"location_group\"].isin(top_locations)][[\"location_group\", \"Block_Code\", \"Direction\", \"Street_Name\"]]\n",
    "\n",
    "# Grouping\n",
    "filtered_location_df = filtered_df.groupby(['location_group', 'Block_Code', 'Direction', 'Street_Name']).size().reset_index(name='Crime Counts')\n",
    "\n",
    "# Extracting Distric, Ward, Community Area\n",
    "filtered_location_df['District']=filtered_location_df['location_group'].str.split('-').str[0]\n",
    "filtered_location_df['Ward']=filtered_location_df['location_group'].str.split('-').str[1]\n",
    "filtered_location_df['Community Area']=filtered_location_df['location_group'].str.split('-').str[2]\n",
    "\n",
    "# Drop location_group column\n",
    "filtered_location_df.drop(['location_group'], axis=1, inplace=True)\n",
    "\n",
    "# reordering columns\n",
    "filtered_location_df = filtered_location_df.iloc[:, [4, 5, 6, 0, 1, 2, 3]]\n",
    "\n",
    "# Sorting and creating new dataframe\n",
    "top_crime_locations = filtered_location_df.sort_values(by=['Crime Counts'], ascending=False).head(15)\n",
    "\n",
    "# Add a serial number column\n",
    "top_crime_locations['Serial No'] = range(1, len(top_crime_locations) + 1)\n",
    "\n",
    "# Reordering Columns\n",
    "top_crime_locations = top_crime_locations[['Serial No', 'District', 'Ward', 'Community Area', 'Block_Code',\n",
    "                                          'Direction', 'Street_Name', 'Crime Counts']]\n",
    "\n",
    "# Tablular Format Visualization\n",
    "table = tabulate(top_crime_locations, headers = 'keys', tablefmt = 'pretty', showindex=False)\n",
    "\n",
    "# Title of our table\n",
    "title = \"Top 15 Crime Areas\"\n",
    "title_centered = title.center(len(table.splitlines()[0]))\n",
    "\n",
    "# Show Table\n",
    "print(title_centered)\n",
    "print(table)"
   ]
  },
  {
   "cell_type": "code",
   "execution_count": null,
   "id": "79cb79ec",
   "metadata": {},
   "outputs": [],
   "source": [
    "# Crime distribution by Hour\n",
    "plt.figure(figsize=(12, 6))\n",
    "sns.countplot(x=copy_df[\"Crime_hour\"], palette=\"viridis\")\n",
    "\n",
    "plt.xlabel(\"Hour of the Day\", fontsize=12)\n",
    "plt.ylabel(\"Number of Crimes\", fontsize=12)\n",
    "plt.title(\"Crime Distribution by Hour\", fontsize=14)\n",
    "\n",
    "plt.xticks(range(0, 24))\n",
    "plt.show()"
   ]
  },
  {
   "cell_type": "code",
   "execution_count": null,
   "id": "e411c92d",
   "metadata": {},
   "outputs": [],
   "source": [
    "# Crime distribution by day of the week\n",
    "plt.figure(figsize=(16, 7))\n",
    "sns.countplot(x=copy_df[\"Crime_Day\"], palette=\"viridis\")\n",
    "\n",
    "plt.xlabel(\"Day of the Week\", fontsize=12)\n",
    "plt.ylabel(\"Number of Crimes\", fontsize=12)\n",
    "plt.title(\"Crime Distribution by Day of the Week\", fontsize=14)\n",
    "plt.show()"
   ]
  },
  {
   "cell_type": "code",
   "execution_count": null,
   "id": "7b7a4a45",
   "metadata": {},
   "outputs": [],
   "source": [
    "# Crime Distribution by Month\n",
    "plt.figure(figsize=(10, 5))\n",
    "sns.countplot(x=copy_df[\"Crime_Month\"], palette=\"magma\")\n",
    "\n",
    "plt.xlabel(\"Month\", fontsize=12)\n",
    "plt.ylabel(\"Number of Crimes\", fontsize=12)\n",
    "plt.title(\"Crime Distribution by Month\", fontsize=14)\n",
    "\n",
    "month_labels = [calendar.month_abbr[i] for i in range(1, 13)]\n",
    "plt.xticks(ticks=range(12), labels=month_labels)\n",
    "plt.show()"
   ]
  },
  {
   "cell_type": "markdown",
   "id": "ba32ca33",
   "metadata": {},
   "source": [
    "## Bivariate Analysis"
   ]
  },
  {
   "cell_type": "code",
   "execution_count": null,
   "id": "7d17e69f",
   "metadata": {},
   "outputs": [],
   "source": [
    "# Arrest vs Top Crime Locations\n",
    "plt.figure(figsize=(14, 6))\n",
    "sns.countplot(y=copy_df[copy_df[\"location_group\"].isin(top_locations)][\"location_group\"], \n",
    "              hue=copy_df[\"Arrest\"], order=top_locations, palette=\"viridis\")\n",
    "plt.title(\"Arrests vs. Top 10 Crime Locations\")\n",
    "plt.xlabel(\"Count\")\n",
    "plt.ylabel(\"Location Description\")\n",
    "plt.legend(title=\"Arrest Made\")\n",
    "plt.show()"
   ]
  },
  {
   "cell_type": "code",
   "execution_count": null,
   "id": "05489a52",
   "metadata": {},
   "outputs": [],
   "source": [
    "# Crime Type vs Location\n",
    "pivot_table = copy_df[copy_df[\"location_group\"].isin(top_locations)].pivot_table(index=\"location_group\", \n",
    "                                                                             columns=\"Primary Type\", \n",
    "                                                                             aggfunc=\"size\", \n",
    "                                                                             fill_value=0)\n",
    "plt.figure(figsize=(14, 8))\n",
    "sns.heatmap(pivot_table, cmap=\"viridis\", linewidths=0.5)\n",
    "plt.title(\"Crime Heatmap: Type vs. Location\")\n",
    "plt.xlabel(\"Crime Type\")\n",
    "plt.ylabel(\"Location Description\")\n",
    "plt.xticks(rotation=90)\n",
    "plt.show()"
   ]
  },
  {
   "cell_type": "code",
   "execution_count": null,
   "id": "75a97a28",
   "metadata": {},
   "outputs": [],
   "source": [
    "# Crime type vs Hour\n",
    "plt.figure(figsize=(14, 10))\n",
    "sns.boxplot(x=copy_df[\"Crime_hour\"], y=copy_df[\"Primary Type\"], data=copy_df, showfliers=False, palette=\"coolwarm\")\n",
    "\n",
    "plt.xlabel(\"Hour of the Day\", fontsize=12)\n",
    "plt.ylabel(\"Crime Type\", fontsize=12)\n",
    "plt.title(\"Crime Types vs. Crime Hour\", fontsize=14)\n",
    "plt.show()"
   ]
  },
  {
   "cell_type": "markdown",
   "id": "786c38ca",
   "metadata": {},
   "source": [
    "## Map Based Visualization"
   ]
  },
  {
   "cell_type": "code",
   "execution_count": null,
   "id": "122839bc",
   "metadata": {},
   "outputs": [],
   "source": [
    "# Create a base map centered around Chicago\n",
    "crime_map = folium.Map(location=[copy_df[\"Latitude\"].mean(), copy_df[\"Longitude\"].mean()], zoom_start=11)\n",
    "\n",
    "# Add a heatmap layer\n",
    "heat_data = copy_df[[\"Latitude\", \"Longitude\"]]  # Remove missing values\n",
    "HeatMap(heat_data, radius=10, blur=8, max_zoom=13).add_to(crime_map)\n",
    "\n",
    "crime_map"
   ]
  },
  {
   "cell_type": "code",
   "execution_count": null,
   "id": "7bf66131",
   "metadata": {},
   "outputs": [],
   "source": [
    "# Crime Cluster over the year\n",
    "fig = px.scatter_mapbox(copy_df, \n",
    "                        lat=\"Latitude\", \n",
    "                        lon=\"Longitude\", \n",
    "                        color=\"Primary Type\", \n",
    "                        size_max=10, \n",
    "                        zoom=11, \n",
    "                        title=\"Crime Clusters in Chicago\",\n",
    "                        hover_data=[\"Primary Type\"])\n",
    "\n",
    "# Update map settings\n",
    "fig.update_layout(mapbox_style=\"carto-positron\", mapbox_zoom=10)\n",
    "fig.show()"
   ]
  },
  {
   "cell_type": "code",
   "execution_count": null,
   "id": "d01b0922",
   "metadata": {},
   "outputs": [],
   "source": [
    "# Monthly Crime Heatmap\n",
    "\n",
    "# convert crime months into string\n",
    "copy_df[\"crime_month_str\"] = copy_df[\"Crime_Month\"].apply(lambda x: calendar.month_abbr[x])\n",
    "\n",
    "# Month Order\n",
    "month_order = {calendar.month_abbr[i]: i for i in range(1, 13)}\n",
    "\n",
    "# Sorting\n",
    "copy_df[\"crime_month_order\"] = copy_df[\"crime_month_str\"].map(month_order)\n",
    "copy_df = copy_df.sort_values(by=\"crime_month_order\")  # Ensure correct order\n",
    "\n",
    "# Aggregate crime data by month and location\n",
    "df_grouped = copy_df.groupby([\"Latitude\", \"Longitude\", \"crime_month_str\"]).size().reset_index(name=\"crime_count\")\n",
    "\n",
    "# Create animated heatmap\n",
    "fig = px.density_mapbox(df_grouped, \n",
    "                        lat=\"Latitude\", \n",
    "                        lon=\"Longitude\", \n",
    "                        z=\"crime_count\", \n",
    "                        radius=10, \n",
    "                        animation_frame=\"crime_month_str\",  # Animate by month\n",
    "                        category_orders={\"crime_month_str\": list(month_order.keys())},\n",
    "                        title=\"Crime Heatmap Over Month\",\n",
    "                        hover_data=[\"crime_count\"])\n",
    "\n",
    "# Update map settings\n",
    "fig.update_layout(mapbox_style=\"open-street-map\", mapbox_zoom=10)\n",
    "fig.show()"
   ]
  },
  {
   "cell_type": "code",
   "execution_count": null,
   "id": "b40757d7",
   "metadata": {},
   "outputs": [],
   "source": [
    "# Crime Cluster over month\n",
    "\n",
    "# Covert month into str\n",
    "copy_df[\"crime_month_str\"] = copy_df[\"Crime_Month\"].apply(lambda x: calendar.month_abbr[x])\n",
    "\n",
    "# Create animated heatmap\n",
    "fig = px.scatter_mapbox(copy_df, \n",
    "                        lat=\"Latitude\", \n",
    "                        lon=\"Longitude\", \n",
    "                        color=\"Primary Type\", \n",
    "                        size_max=10, \n",
    "                        zoom=11, \n",
    "                        title=\"Crime Trends Over Months\",\n",
    "                        animation_frame=\"crime_month_str\",  # Use month names\n",
    "                        hover_data=[\"Primary Type\"])\n",
    "\n",
    "# Update map settings\n",
    "fig.update_layout(mapbox_style=\"open-street-map\", mapbox_zoom=10)\n",
    "fig.show()"
   ]
  },
  {
   "cell_type": "code",
   "execution_count": null,
   "id": "6ac11c3b",
   "metadata": {},
   "outputs": [],
   "source": []
  }
 ],
 "metadata": {
  "kernelspec": {
   "display_name": "Python 3 (ipykernel)",
   "language": "python",
   "name": "python3"
  },
  "language_info": {
   "codemirror_mode": {
    "name": "ipython",
    "version": 3
   },
   "file_extension": ".py",
   "mimetype": "text/x-python",
   "name": "python",
   "nbconvert_exporter": "python",
   "pygments_lexer": "ipython3",
   "version": "3.10.9"
  }
 },
 "nbformat": 4,
 "nbformat_minor": 5
}
